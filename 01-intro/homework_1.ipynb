{
 "cells": [
  {
   "cell_type": "markdown",
   "id": "69993fcf-b521-4713-9796-0d584994203b",
   "metadata": {},
   "source": [
    "## HOMEWORK-1"
   ]
  },
  {
   "cell_type": "markdown",
   "id": "e73a5a1c-bda8-4f80-97da-88611b0add5b",
   "metadata": {},
   "source": [
    "### IMPORTS"
   ]
  },
  {
   "cell_type": "code",
   "execution_count": 1,
   "id": "2e3a277d-41a3-4554-82f7-9bea2aa702f9",
   "metadata": {},
   "outputs": [],
   "source": [
    "import pandas as pd\n",
    "import seaborn as sns"
   ]
  },
  {
   "cell_type": "code",
   "execution_count": 2,
   "id": "9e6048d4-5a32-4e27-b74b-2cc1f1c1be5d",
   "metadata": {},
   "outputs": [],
   "source": [
    "from sklearn.feature_extraction import DictVectorizer\n",
    "from sklearn.linear_model import LinearRegression\n",
    "from sklearn.metrics import mean_squared_error"
   ]
  },
  {
   "cell_type": "code",
   "execution_count": 3,
   "id": "7516a701-9aaf-4013-bcfa-444e5e3a0981",
   "metadata": {},
   "outputs": [],
   "source": [
    "def read_dataframe(filename):\n",
    "    if filename.endswith('.csv'):\n",
    "        df = pd.read_csv(filename)\n",
    "\n",
    "        df.dropOff_datetime = pd.to_datetime(df.dropOff_datetime)\n",
    "        df.pickup_datetime = pd.to_datetime(df.pickup_datetime)\n",
    "    elif filename.endswith('.parquet'):\n",
    "        df = pd.read_parquet(filename)\n",
    "\n",
    "    df['duration'] = df.dropOff_datetime - df.pickup_datetime\n",
    "    df.duration = df.duration.apply(lambda td: td.total_seconds() / 60)\n",
    "    print(f'Distribution of Duration:\\n')\n",
    "    print(df['duration'].describe(percentiles=[0.90, 0.95, 0.99]))\n",
    "    # Filter the dataset\n",
    "    print(f'Size of dataframe before removing trips greater than 60 mins: {df.shape}')\n",
    "    df = df[(df.duration >= 1) & (df.duration <= 60)]\n",
    "    print(f'Size of dataframe after removing trips greater than 60 mins: {df.shape}')\n",
    "    return df\n",
    "\n",
    "def fill_missing_values(df, col_list, fill):\n",
    "    for col in col_list:\n",
    "        df[col] = df[col].fillna(fill)\n",
    "    return df\n",
    "\n",
    "\n",
    "def convert_to_dict(df, col_list):\n",
    "    for col in col_list:\n",
    "        df[col] = df[col].astype(str)\n",
    "    dicts = df[col_list].to_dict(orient='records')  \n",
    "    return dicts"
   ]
  },
  {
   "cell_type": "markdown",
   "id": "8d7d588e-41f4-4f68-a6d8-38cec7b4fb1a",
   "metadata": {},
   "source": [
    "## MAIN"
   ]
  },
  {
   "cell_type": "markdown",
   "id": "3898f4c9-a389-4386-b965-4b9a273ec745",
   "metadata": {},
   "source": [
    "### TRAIN"
   ]
  },
  {
   "cell_type": "code",
   "execution_count": 4,
   "id": "0a7b6fd3-bc51-48c5-86a6-a7ff05dbc932",
   "metadata": {},
   "outputs": [
    {
     "name": "stdout",
     "output_type": "stream",
     "text": [
      "Distribution of Duration:\n",
      "\n",
      "count    1.154112e+06\n",
      "mean     1.916722e+01\n",
      "std      3.986922e+02\n",
      "min      1.666667e-02\n",
      "50%      1.340000e+01\n",
      "90%      3.563333e+01\n",
      "95%      4.725000e+01\n",
      "99%      9.030000e+01\n",
      "max      4.233710e+05\n",
      "Name: duration, dtype: float64\n",
      "Size of dataframe before removing trips greater than 60 mins: (1154112, 8)\n",
      "Size of dataframe after removing trips greater than 60 mins: (1109826, 8)\n"
     ]
    }
   ],
   "source": [
    "df_train = read_dataframe('data/fhv_tripdata_2021-01.parquet')\n",
    "categorical = ['PUlocationID', 'DOlocationID']"
   ]
  },
  {
   "cell_type": "code",
   "execution_count": 5,
   "id": "da0f57f8-e92f-48fa-b101-bbbfb6e2c0ed",
   "metadata": {},
   "outputs": [
    {
     "name": "stdout",
     "output_type": "stream",
     "text": [
      "0.8352732770722617\n"
     ]
    }
   ],
   "source": [
    "# fraction of missing values\n",
    "print(df_train[pd.isnull(df_train['PUlocationID'])].shape[0]/df_train.shape[0])"
   ]
  },
  {
   "cell_type": "code",
   "execution_count": 6,
   "id": "b13cfefe-85ca-439b-843c-63a5bb2df057",
   "metadata": {},
   "outputs": [
    {
     "data": {
      "text/plain": [
       "(1109826, 525)"
      ]
     },
     "execution_count": 6,
     "metadata": {},
     "output_type": "execute_result"
    }
   ],
   "source": [
    "df_train = fill_missing_values(df_train, categorical, -1)\n",
    "train_dicts = convert_to_dict(df_train, categorical)\n",
    "dv = DictVectorizer()\n",
    "X_train = dv.fit_transform(train_dicts)\n",
    "y_train = df_train.duration.values\n",
    "\n",
    "# dimension of the matrix\n",
    "X_train.shape #(1109826, 525)"
   ]
  },
  {
   "cell_type": "code",
   "execution_count": 7,
   "id": "1e56716b-d494-4aeb-ac96-7bbe7a952831",
   "metadata": {},
   "outputs": [
    {
     "data": {
      "text/plain": [
       "10.528519107206316"
      ]
     },
     "execution_count": 7,
     "metadata": {},
     "output_type": "execute_result"
    }
   ],
   "source": [
    "# Train and Predict on training data\n",
    "lr = LinearRegression()\n",
    "lr.fit(X_train, y_train)\n",
    "y_pred = lr.predict(X_train)\n",
    "mean_squared_error(y_train, y_pred, squared=False)"
   ]
  },
  {
   "cell_type": "markdown",
   "id": "2a8608ae-75f6-4340-ac17-5bd6fedcac73",
   "metadata": {},
   "source": [
    "### Validation"
   ]
  },
  {
   "cell_type": "code",
   "execution_count": 8,
   "id": "e2f0e7ec-e279-4b4d-8aad-5e8d952715ec",
   "metadata": {},
   "outputs": [
    {
     "name": "stdout",
     "output_type": "stream",
     "text": [
      "Distribution of Duration:\n",
      "\n",
      "count    1.037692e+06\n",
      "mean     2.070699e+01\n",
      "std      1.611084e+02\n",
      "min      1.666667e-02\n",
      "50%      1.410000e+01\n",
      "90%      3.870000e+01\n",
      "95%      5.225000e+01\n",
      "99%      1.050000e+02\n",
      "max      1.109190e+05\n",
      "Name: duration, dtype: float64\n",
      "Size of dataframe before removing trips greater than 60 mins: (1037692, 8)\n",
      "Size of dataframe after removing trips greater than 60 mins: (990113, 8)\n"
     ]
    }
   ],
   "source": [
    "# Validation set predict and evaluate\n",
    "df_val = read_dataframe('data/fhv_tripdata_2021-02.parquet')\n",
    "df_val = fill_missing_values(df_val, categorical, -1)"
   ]
  },
  {
   "cell_type": "code",
   "execution_count": 9,
   "id": "caf15a81-cc6e-429b-bb10-da8918ebc573",
   "metadata": {},
   "outputs": [
    {
     "data": {
      "text/plain": [
       "(990113, 525)"
      ]
     },
     "execution_count": 9,
     "metadata": {},
     "output_type": "execute_result"
    }
   ],
   "source": [
    "val_dicts = convert_to_dict(df_val, categorical)\n",
    "X_val = dv.transform(val_dicts)\n",
    "y_val = df_val.duration.values\n",
    "# dimension of the matrix\n",
    "X_val.shape #(990113, 525)"
   ]
  },
  {
   "cell_type": "code",
   "execution_count": 10,
   "id": "c9ffb9f5-f38a-470b-883f-6328532e64e4",
   "metadata": {},
   "outputs": [
    {
     "data": {
      "text/plain": [
       "11.014283149347039"
      ]
     },
     "execution_count": 10,
     "metadata": {},
     "output_type": "execute_result"
    }
   ],
   "source": [
    "y_pred = lr.predict(X_val)\n",
    "mean_squared_error(y_val, y_pred, squared=False)"
   ]
  }
 ],
 "metadata": {
  "kernelspec": {
   "display_name": "Python 3 (ipykernel)",
   "language": "python",
   "name": "python3"
  },
  "language_info": {
   "codemirror_mode": {
    "name": "ipython",
    "version": 3
   },
   "file_extension": ".py",
   "mimetype": "text/x-python",
   "name": "python",
   "nbconvert_exporter": "python",
   "pygments_lexer": "ipython3",
   "version": "3.9.12"
  }
 },
 "nbformat": 4,
 "nbformat_minor": 5
}
