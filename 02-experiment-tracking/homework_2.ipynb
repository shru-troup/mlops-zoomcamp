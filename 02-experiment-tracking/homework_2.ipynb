{
 "cells": [
  {
   "cell_type": "code",
   "execution_count": 2,
   "id": "d0cd1590-0ffa-4e47-bed4-6391b45e38d1",
   "metadata": {},
   "outputs": [
    {
     "name": "stdout",
     "output_type": "stream",
     "text": [
      "mlflow, version 1.26.1\n"
     ]
    }
   ],
   "source": [
    "#1 Version of mlflow\n",
    "!mlflow --version"
   ]
  },
  {
   "cell_type": "code",
   "execution_count": 4,
   "id": "30080aba-897f-4e96-ae21-9dd68def6c16",
   "metadata": {},
   "outputs": [],
   "source": [
    "#2 Run the preprocess script to pre-process the data\n",
    "!python homework/preprocess_data.py --raw_data_path ../data/ --dest_path ./output"
   ]
  },
  {
   "cell_type": "code",
   "execution_count": 7,
   "id": "b36c0dc4-9ca8-45f2-aa63-53446f8385a8",
   "metadata": {},
   "outputs": [
    {
     "name": "stdout",
     "output_type": "stream",
     "text": [
      "CPU times: user 4 µs, sys: 2 µs, total: 6 µs\n",
      "Wall time: 58.9 µs\n",
      "2022/05/31 18:29:17 WARNING mlflow.utils.autologging_utils: MLflow autologging encountered a warning: \"/opt/homebrew/Caskroom/miniforge/base/envs/mlops-zoom/lib/python3.9/site-packages/_distutils_hack/__init__.py:30: UserWarning: Setuptools is replacing distutils.\"\n"
     ]
    }
   ],
   "source": [
    "#3 Train a model with Autolog\n",
    "!python homework/train.py --data_path\n",
    "\n",
    "# def run(data_path):\n",
    "\n",
    "#     X_train, y_train = load_pickle(os.path.join(data_path, \"train.pkl\"))\n",
    "#     X_valid, y_valid = load_pickle(os.path.join(data_path, \"valid.pkl\"))\n",
    "    \n",
    "#     mlflow.sklearn.autolog()\n",
    "    \n",
    "#     with mlflow.start_run():\n",
    "\n",
    "#         mlflow.set_tag(\"developer\", \"shru\")\n",
    "        \n",
    "#         rf = RandomForestRegressor(max_depth=10, random_state=0)\n",
    "#         rf.fit(X_train, y_train)\n",
    "#         y_pred = rf.predict(X_valid)\n",
    "\n",
    "#         rmse = mean_squared_error(y_valid, y_pred, squared=False)\n"
   ]
  },
  {
   "cell_type": "code",
   "execution_count": null,
   "id": "917cc62e-d66c-47c9-8c9b-1719cb7634db",
   "metadata": {},
   "outputs": [],
   "source": [
    "#4  Launch the tracking server locally\n",
    "# mlflow server --backend-store-uri sqlite:///mlflow.db --default-artifact-root artifacts/"
   ]
  },
  {
   "cell_type": "code",
   "execution_count": 11,
   "id": "07017157-77af-47d4-98ab-36d81345acc5",
   "metadata": {},
   "outputs": [
    {
     "name": "stdout",
     "output_type": "stream",
     "text": [
      "100%|█████████| 50/50 [02:44<00:00,  3.29s/trial, best loss: 6.6284257482044735]\n"
     ]
    }
   ],
   "source": [
    "#5 Tune the hyperparameters\n",
    "!python homework/hpo.py\n",
    "\n",
    "# def objective(params):\n",
    "#         with mlflow.start_run():\n",
    "#             mlflow.set_tag(\"model\", \"randomforestregressor\")\n",
    "#             mlflow.log_params(params)\n",
    "#             rf = RandomForestRegressor(**params)\n",
    "#             rf.fit(X_train, y_train)\n",
    "#             y_pred = rf.predict(X_valid)\n",
    "#             rmse = mean_squared_error(y_valid, y_pred, squared=False)\n",
    "#             mlflow.log_metric(\"rmse\", rmse)\n",
    "\n",
    "#         return {'loss': rmse, 'status': STATUS_OK}"
   ]
  },
  {
   "cell_type": "code",
   "execution_count": 20,
   "id": "cc5e91d5-9c1a-4fd2-b92e-d7e33bd7ebf3",
   "metadata": {},
   "outputs": [
    {
     "name": "stdout",
     "output_type": "stream",
     "text": [
      "2022/05/31 23:10:51 WARNING mlflow.utils.autologging_utils: MLflow autologging encountered a warning: \"/opt/homebrew/Caskroom/miniforge/base/envs/mlops-zoom/lib/python3.9/site-packages/_distutils_hack/__init__.py:30: UserWarning: Setuptools is replacing distutils.\"\n",
      "Best Run --> run id: 33d7dd3133734534aeafaac38a92444e, rmse: 6.5479\n",
      "Registered model 'nyc-taxi-hw2-regressor' already exists. Creating a new version of this model...\n",
      "2022/05/31 23:11:21 INFO mlflow.tracking._model_registry.client: Waiting up to 300 seconds for model version to finish creation.                     Model name: nyc-taxi-hw2-regressor, version 2\n",
      "Created version '2' of model 'nyc-taxi-hw2-regressor'.\n"
     ]
    }
   ],
   "source": [
    "#6 Promote the best model to the model registry\n",
    "!python homework/register_model.py\n",
    "\n",
    "# def run(data_path, log_top):\n",
    "\n",
    "#     client = MlflowClient()\n",
    "\n",
    "#     # retrieve the top_n model runs and log the models to MLflow\n",
    "#     experiment = client.get_experiment_by_name(HPO_EXPERIMENT_NAME)\n",
    "#     runs = client.search_runs(\n",
    "#         experiment_ids=experiment.experiment_id,\n",
    "#         run_view_type=ViewType.ACTIVE_ONLY,\n",
    "#         max_results=log_top,\n",
    "#         order_by=[\"metrics.rmse ASC\"]\n",
    "#     )\n",
    "#     for run in runs:\n",
    "#         train_and_log_model(data_path=data_path, params=run.data.params)\n",
    "\n",
    "#     #select the model with the lowest test RMSE\n",
    "#     experiment = client.get_experiment_by_name(EXPERIMENT_NAME)\n",
    "#     best_run = client.search_runs(\n",
    "#         experiment_ids=experiment.experiment_id,\n",
    "#         run_view_type=ViewType.ACTIVE_ONLY,\n",
    "#         max_results=log_top,\n",
    "#         order_by=[\"metrics.test_rmse ASC\"]\n",
    "#     )[0]\n",
    "#     best_run_id = best_run.info.run_id\n",
    "#     print(f\"Best Run --> run id: {best_run_id}, rmse: {best_run.data.metrics['test_rmse']:.4f}\")\n",
    "    \n",
    "#     # register the best model\n",
    "#     model_uri = f\"runs:/{best_run_id}/model\"\n",
    "#     mlflow.register_model(model_uri=model_uri, name=\"nyc-taxi-hw2-regressor\")"
   ]
  },
  {
   "cell_type": "code",
   "execution_count": null,
   "id": "0bb45e68-0485-4769-a8c2-5911ee787a55",
   "metadata": {},
   "outputs": [],
   "source": []
  }
 ],
 "metadata": {
  "kernelspec": {
   "display_name": "Python 3 (ipykernel)",
   "language": "python",
   "name": "python3"
  },
  "language_info": {
   "codemirror_mode": {
    "name": "ipython",
    "version": 3
   },
   "file_extension": ".py",
   "mimetype": "text/x-python",
   "name": "python",
   "nbconvert_exporter": "python",
   "pygments_lexer": "ipython3",
   "version": "3.9.7"
  }
 },
 "nbformat": 4,
 "nbformat_minor": 5
}
